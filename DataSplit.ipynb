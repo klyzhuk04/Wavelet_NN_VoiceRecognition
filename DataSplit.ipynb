{
  "nbformat": 4,
  "nbformat_minor": 0,
  "metadata": {
    "colab": {
      "provenance": []
    },
    "kernelspec": {
      "name": "python3",
      "display_name": "Python 3"
    },
    "language_info": {
      "name": "python"
    }
  },
  "cells": [
    {
      "cell_type": "code",
      "source": [
        "from pydub import AudioSegment\n",
        "import os\n",
        "def split_audio_to_segments(file_path, output_dir, segment_duration=1000):\n",
        "    try:\n",
        "        # Извлекаем имя человека из названия файла\n",
        "        person_name = os.path.splitext(os.path.basename(file_path))[0]\n",
        "\n",
        "        audio = AudioSegment.from_file(file_path)\n",
        "        audio_length = len(audio)\n",
        "        for i in range(0, audio_length, segment_duration):\n",
        "            segment = audio[i:i + segment_duration]\n",
        "            segment_name = f\"{i // segment_duration}.wav\"\n",
        "            segment_path = os.path.join(output_dir, segment_name)\n",
        "            segment.export(segment_path, format=\"wav\")\n",
        "            print(f\"Saved segment: {segment_path}\")\n",
        "    except Exception as e:\n",
        "        print(f\"Error processing {file_path}: {e}\")\n",
        "\n",
        "def process_audio_files(input_dir, output_dir):\n",
        "    if not os.path.exists(output_dir):\n",
        "        os.makedirs(output_dir)\n",
        "\n",
        "    for file_name in os.listdir(input_dir):\n",
        "        file_path = os.path.join(input_dir, file_name)\n",
        "        if os.path.isfile(file_path):\n",
        "            split_audio_to_segments(file_path, output_dir)\n",
        "\n",
        "input_directory = \"/content/drive/MyDrive/Input_Data/Федя\"\n",
        "output_directory = \"/content/drive/MyDrive/Speakers/Федя\"\n",
        "\n",
        "process_audio_files(input_directory, output_directory)"
      ],
      "metadata": {
        "id": "DyryehKWUPNE"
      },
      "execution_count": null,
      "outputs": []
    }
  ]
}